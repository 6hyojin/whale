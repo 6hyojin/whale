{
  "nbformat": 4,
  "nbformat_minor": 0,
  "metadata": {
    "colab": {
      "name": "크롤링과제.ipynb",
      "provenance": [],
      "collapsed_sections": [],
      "authorship_tag": "ABX9TyOWHmQOpfzwMczUm3cH0GtI",
      "include_colab_link": true
    },
    "kernelspec": {
      "name": "python3",
      "display_name": "Python 3"
    },
    "language_info": {
      "name": "python"
    }
  },
  "cells": [
    {
      "cell_type": "markdown",
      "metadata": {
        "id": "view-in-github",
        "colab_type": "text"
      },
      "source": [
        "<a href=\"https://colab.research.google.com/github/6hyojin/whale/blob/main/%ED%81%AC%EB%A1%A4%EB%A7%81%EA%B3%BC%EC%A0%9C.ipynb\" target=\"_parent\"><img src=\"https://colab.research.google.com/assets/colab-badge.svg\" alt=\"Open In Colab\"/></a>"
      ]
    },
    {
      "cell_type": "code",
      "source": [
        "!pip install beautifulsoup4\n",
        "!pip install requests"
      ],
      "metadata": {
        "colab": {
          "base_uri": "https://localhost:8080/"
        },
        "id": "eNOonsN9HwJ2",
        "outputId": "303b10b1-1280-4932-93e4-616e2e7da6bb"
      },
      "execution_count": 2,
      "outputs": [
        {
          "output_type": "stream",
          "name": "stdout",
          "text": [
            "Looking in indexes: https://pypi.org/simple, https://us-python.pkg.dev/colab-wheels/public/simple/\n",
            "Requirement already satisfied: beautifulsoup4 in /usr/local/lib/python3.7/dist-packages (4.6.3)\n",
            "Looking in indexes: https://pypi.org/simple, https://us-python.pkg.dev/colab-wheels/public/simple/\n",
            "Requirement already satisfied: requests in /usr/local/lib/python3.7/dist-packages (2.23.0)\n",
            "Requirement already satisfied: chardet<4,>=3.0.2 in /usr/local/lib/python3.7/dist-packages (from requests) (3.0.4)\n",
            "Requirement already satisfied: certifi>=2017.4.17 in /usr/local/lib/python3.7/dist-packages (from requests) (2022.5.18.1)\n",
            "Requirement already satisfied: idna<3,>=2.5 in /usr/local/lib/python3.7/dist-packages (from requests) (2.10)\n",
            "Requirement already satisfied: urllib3!=1.25.0,!=1.25.1,<1.26,>=1.21.1 in /usr/local/lib/python3.7/dist-packages (from requests) (1.24.3)\n"
          ]
        }
      ]
    },
    {
      "cell_type": "code",
      "source": [
        "import requests\n",
        "from bs4 import BeautifulSoup as bs\n",
        "url = 'https://movie.naver.com/movie/sdb/rank/rmovie.naver?sel=cur&date=20220529'\n",
        "data = requests.get(url)\n",
        "soup = bs(data.text)\n",
        "\n",
        "meta = soup.find_all('meta')\n",
        "\n",
        "IstRanking = soup.find(\"table\",{\"class\":\"list_ranking\"})\n",
        "\n",
        "div = IstRanking.find('div',{'class':'tit5'})\n",
        "title = div.find('a')['title']\n",
        "point = IstRanking.find('td',{'class':'point'})\n",
        "acClass = IstRanking.find('td',{'class':'ac'})\n",
        "rank = acClass.find('img')['alt']\n",
        "print(rank, title, point.text)\n",
        "\n",
        "trTag = IstRanking.findAll('tr')\n",
        "for Li in trTag[:33]:\n",
        "        try:\n",
        "           info = Li.find(\"div\", {\"class\": 'tit5'})\n",
        "           aTag = info.find('a')\n",
        "           title = aTag['title']\n",
        "\n",
        "           acCLass = Li.find('td',{'class':'ac'})\n",
        "           rank = acCLass.find('img')['alt']\n",
        "\n",
        "           point = Li.find('td',{'class':'point'})\n",
        "           point = point.text\n",
        "\n",
        "           print(rank, title, point)\n",
        "        except Exception as e:\n",
        "           print(\"-----------------\")\n",
        "#return {'rank':rank, 'title':title, 'point':point}"
      ],
      "metadata": {
        "colab": {
          "base_uri": "https://localhost:8080/"
        },
        "id": "IMTaUi8nIAXD",
        "outputId": "c494ddfa-6298-4d6b-aec8-08eb3dafa5e0"
      },
      "execution_count": 8,
      "outputs": [
        {
          "output_type": "stream",
          "name": "stdout",
          "text": [
            "01 범죄도시2 9.55\n",
            "-----------------\n",
            "-----------------\n",
            "01 범죄도시2 9.55\n",
            "02 씽2게더 9.39\n",
            "03 극장판 귀멸의 칼날: 무한열차편 9.27\n",
            "04 극장판 주술회전 0 9.25\n",
            "05 해피 투게더 9.19\n",
            "06 코다 9.13\n",
            "07 중경삼림 8.90\n",
            "08 화양연화 8.81\n",
            "09 아메리칸 셰프 8.75\n",
            "010 배드 가이즈 8.67\n",
            "-----------------\n",
            "11 걸어도 걸어도 8.63\n",
            "12 라라랜드 8.62\n",
            "13 공기살인 8.49\n",
            "14 아비정전 8.44\n",
            "15 모가디슈 8.33\n",
            "16 어나더 라운드 8.30\n",
            "17 수퍼 소닉2 8.26\n",
            "18 언어의 정원 8.18\n",
            "19 날씨의 아이 7.96\n",
            "20 니 부모 얼굴이 보고 싶다 7.72\n",
            "-----------------\n",
            "21 스펜서 7.72\n",
            "22 그대가 조국 7.55\n",
            "23 디어 에반 핸슨 7.47\n",
            "24 닥터 스트레인지: 대혼돈의 멀티버스 7.32\n",
            "25 아사코 7.28\n",
            "26 앵커 7.04\n",
            "27 신비한 동물들과 덤블도어의 비밀 6.53\n",
            "28 어부바 5.98\n",
            "29 서울괴담 4.30\n"
          ]
        }
      ]
    }
  ]
}